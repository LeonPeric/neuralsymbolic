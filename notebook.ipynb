{
  "cells": [
    {
      "cell_type": "markdown",
      "metadata": {
        "collapsed": true,
        "id": "I0-zU1h5O_ju",
        "jupyter": {
          "outputs_hidden": true
        },
        "pycharm": {
          "name": "#%% md\n"
        }
      },
      "source": [
        "# Neuro-Symbolic Integration: Learning with Logic\n",
        "\n",
        "*Workshop created by **Satchit Chatterji** (s.chatterji@uva.nl)*  \n",
        "*Part of the UvA AI MSc Course on **Explainability and Interpretability in Artificial Intelligence** (Neurosymbolic track), June 2025*\n",
        "*A number of elements in this notebook have been adapted from https://github.com/tommasocarraro/LTNtorch*\n",
        "\n",
        "> Last updated: June 17th, 2025\n",
        "\n",
        "## Introduction\n",
        "\n",
        "In this notebook, we explore how to teach a neural network to reason about arithmetic using both learning and logic. We will primarily use [Logic Tensor Networks (LTNs)](https://arxiv.org/pdf/2012.13635), a neurosymbolic system that integrates first-order logic with differentiable learning. LTNs (and other similar systems) allow us to express symbolic rules — like *\"the sum of two numbers x and y is exactly equal to the mathematical expression x+y\"*, or *\"The traffic light can be red or green but not both at the same time\"*, or even *“Everyone who believes in the Flying Spaghetti Monster is blessed by His Noodliness.”* — and enforce them as soft constraints during training.\n",
        "\n",
        "---\n",
        "\n",
        "We’ll begin with a classic simple visual task: predicting the sum of two handwritten digits (from MNIST), however, with *weak supervision*. We'll start from a purely neural perspective: given two MNIST digit images, can we **predict their sum** using a convolutional network? Additionally, can we learn **single-digit prediction** based only on their labelled sum? This is a form of *pattern recognition* — where the model must learn both the digits and their interaction.\n",
        "\n",
        "But what happens when we **don't tell the model the individual digits**, and only provide the sum? Or better yet — what if we also **tell the model what logic governs digit addition**? This is the promise of **neurosymbolic (NeSy) methods**: blending pattern recognition with symbolic structure.\n",
        "\n",
        "<div style=\"border: 3px solid #800080; padding: 1em;\">\n",
        "  <p>In this notebook you will:</p>\n",
        "  <ol>\n",
        "    <li>Train a neural model to predict sums of digit images</li>\n",
        "    <li>Use <i>weak supervision</i> (sum only) instead of full labels</li>\n",
        "    <li>Introduce logical rules (via <i>Logic Tensor Networks</i>)</li>\n",
        "    <li>Compare different logical semantics: <b>fuzzy logic</b> vs. <b>stable real logic</b></li>\n",
        "    <li>Reflect on how logic helps or hinders learning</li>\n",
        "  </ol>\n",
        "</div>\n",
        "    \n",
        "In doing so, you'll discover how logic can act as a *training signal*, guiding learning even when data is incomplete or ambiguous. This notebook will emphasize understanding over engineering. Code is provided, but you're encouraged to inspect, question, and modify it.\n",
        "\n",
        "---\n",
        "\n",
        "<font color='green'><b>ToDo 1</b></font> It is **highly recommended** briefly to go through the Logic Tensor Network paper before you start this notebook (specifically the part about *Real Logic*). It will greatly help with understanding the vocabulary within this notebook.\n"
      ]
    },
    {
      "cell_type": "markdown",
      "metadata": {
        "id": "n4mQ9tgTTnx0"
      },
      "source": [
        "---\n",
        "# 1. Task description\n",
        "\n",
        "**Single digits addition:**\n",
        "consider the predicate $addition(X, Y, n)$, where $X$ and $Y$ are\n",
        "images of digits, and $n$ is a natural number corresponding to the sum of these digits. This predicate should return an\n",
        "estimate of the validity of the addition. For instance, $addition(img(8), img(3), 11)$ is a\n",
        "valid addition, while $addition(img(3), img(3), 5)$ is not. In this example, $img(x)$ means \"an image of a $x$\", where $x$ is\n",
        "a digit label. It has not to be confused with a logical function.\n",
        "\n",
        "<hr style=\"width:60%\">\n",
        "<p style=\"border-width:3px; border-style:solid; border-color:#800080; padding: 1em;\">\n",
        "<b>Analogy: Diagnosing from Medical Scans</b><br>\n",
        "Imagine a model tasked with predicting a diagnosis (e.g., diabetes) from two medical scans — a retina image and a pancreas MRI. You don’t label individual findings (e.g., \"lesion\", \"mass\") — only the final diagnosis. A neural network might learn some correlation, but struggle to generalize or explain its reasoning.<br>\n",
        "Now add symbolic rules like:<br>\n",
        "<code>has_lesion(x) ∧ has_mass(y) → high_risk(z)</code><br>\n",
        "This logic constrains the model, guiding it toward interpretable and consistent predictions — especially in ambiguous cases.<br>\n",
        "<br>This notebook mirrors that challenge using MNIST digits:<br>\n",
        "- The images are like the scans,<br>\n",
        "- The sum is the diagnosis,<br>\n",
        "- The logic (`digit1 + digit2 = sum`) is the symbolic rule.<br>\n",
        "Though the experiment in this notebook may seem contrived, it captures the essence of many real-world challenges: learning from perception while reasoning with structure. We're studying how logic helps guide learning when labels are limited or incomplete.\n",
        "<hr style=\"width:60%\">\n",
        "</p>\n",
        "\n",
        "## 1.2. Dataset\n",
        "\n",
        "Now, let's import and create the dataset.\n",
        "\n",
        "The MNIST dataset contains 70000 images, subdivided into 60000 examples for training and 10000 for test. For our task,\n",
        "we need to create an ad-hoc dataset starting from the MNIST dataset.\n",
        "\n",
        "For the single digit case, the first 30000 images of the training set are used as left operands for the addition, while\n",
        "the last 30000 images are used as right operands. The sum of the labels of the left and right operands is used as target.\n",
        "The same process is repeated to create the test set. In order to test a model's ability to correctly perform single digit prediction, we also return the test image labels for the test set."
      ]
    },
    {
      "cell_type": "code",
      "execution_count": null,
      "metadata": {},
      "outputs": [],
      "source": [
        "#!pip install torch torchvision LTNtorch pandas numpy matplotlib seaborn scikit-learn"
      ]
    },
    {
      "cell_type": "code",
      "execution_count": 1,
      "metadata": {
        "id": "kj5BLoZaO_jy",
        "pycharm": {
          "name": "#%%\n"
        }
      },
      "outputs": [],
      "source": [
        "import torch\n",
        "import torchvision\n",
        "import pandas as pd\n",
        "\n",
        "def get_mnist_dataset_for_digits_addition():\n",
        "    \"\"\"\n",
        "    Prepares the dataset for MNIST single digit addition. Adapted from https://github.com/tommasocarraro/LTNtorch\n",
        "\n",
        "    :return: a tuple of two elements. The first element is the training set, while the second element is the test set.\n",
        "    Both training set and test set are lists that contain the following information:\n",
        "        1. a list [left_operands, right_operands], where left_operands is a list of MNIST images that are used as the\n",
        "        left operand of the addition, while right_operands is a list of MNIST images that are used as the right operand\n",
        "        of the addition;\n",
        "        2. a list containing the summation of the labels of the images contained in the list at point 1. The label of\n",
        "        the left operand is added to the label of the right operand, and the target label is generated. This represents\n",
        "        the target of the digits addition task.\n",
        "    Note that this is the output of the process for the single digit case. In the multi digits case the list at point\n",
        "    1 will have 4 elements since in the multi digits case four digits are involved in each addition (two digits\n",
        "    represent the first operand and two digits the second operand).\n",
        "    \"\"\"\n",
        "    n_train_examples = 30000\n",
        "    n_test_examples = 5000\n",
        "    n_operands = 2\n",
        "\n",
        "    mnist_train = torchvision.datasets.MNIST(\"./datasets/\", train=True, download=True,\n",
        "                                             transform=torchvision.transforms.ToTensor())\n",
        "    mnist_test = torchvision.datasets.MNIST(\"./datasets/\", train=False, download=True,\n",
        "                                            transform=torchvision.transforms.ToTensor())\n",
        "\n",
        "    train_imgs, train_labels, test_imgs, test_labels = mnist_train.data, mnist_train.targets, \\\n",
        "                                                       mnist_test.data, mnist_test.targets\n",
        "\n",
        "    train_imgs, test_imgs = train_imgs / 255.0, test_imgs / 255.0\n",
        "\n",
        "    train_imgs, test_imgs = torch.unsqueeze(train_imgs, 1), torch.unsqueeze(test_imgs, 1)\n",
        "\n",
        "    imgs_operand_train = [train_imgs[i * n_train_examples:i * n_train_examples + n_train_examples]\n",
        "                          for i in range(n_operands)]\n",
        "    labels_operand_train = [train_labels[i * n_train_examples:i * n_train_examples + n_train_examples]\n",
        "                            for i in range(n_operands)]\n",
        "\n",
        "    imgs_operand_test = [test_imgs[i * n_test_examples:i * n_test_examples + n_test_examples]\n",
        "                         for i in range(n_operands)]\n",
        "    labels_operand_test = [test_labels[i * n_test_examples:i * n_test_examples + n_test_examples]\n",
        "                           for i in range(n_operands)]\n",
        "\n",
        "    label_addition_train = labels_operand_train[0] + labels_operand_train[1]\n",
        "    label_addition_test = labels_operand_test[0] + labels_operand_test[1]\n",
        "\n",
        "    label_digit_train = torch.stack(labels_operand_train, dim=1)\n",
        "    label_digit_test = torch.stack(labels_operand_test,dim=1)\n",
        "\n",
        "    train_set = [torch.stack(imgs_operand_train, dim=1), label_addition_train, label_digit_train]\n",
        "    test_set = [torch.stack(imgs_operand_test, dim=1), label_addition_test, label_digit_test]\n",
        "\n",
        "    return train_set, test_set\n",
        "\n",
        "# single digit dataset\n",
        "train_set, test_set = get_mnist_dataset_for_digits_addition()"
      ]
    },
    {
      "cell_type": "markdown",
      "metadata": {
        "id": "WRJ2i-tsO_jz"
      },
      "source": [
        "Just for illustration, we show the first example of the training set for the single digit case. This should help in\n",
        "understanding how the dataset is created.\n",
        "\n",
        "<font color='blue'><b>ToThink</b></font> Inspect the data you have been given. Make sure you understand what the data looks like, and what the labels mean."
      ]
    },
    {
      "cell_type": "code",
      "execution_count": 2,
      "metadata": {
        "id": "j-1MJYYkO_jz",
        "pycharm": {
          "name": "#%%\n"
        }
      },
      "outputs": [
        {
          "name": "stdout",
          "output_type": "stream",
          "text": [
            "Operands are displayed in the following images:\n"
          ]
        },
        {
          "data": {
            "image/png": "[encoded data removed]",
            "text/plain": [
              "<Figure size 640x480 with 2 Axes>"
            ]
          },
          "metadata": {},
          "output_type": "display_data"
        },
        {
          "name": "stdout",
          "output_type": "stream",
          "text": [
            "The target label (sum) for these operands is: 8\n"
          ]
        }
      ],
      "source": [
        "import matplotlib.pyplot as plt\n",
        "first_example_images = train_set[0][0]\n",
        "first_example_label = train_set[1][0]\n",
        "\n",
        "print(\"Operands are displayed in the following images:\")\n",
        "fig = plt.figure()\n",
        "ax = fig.add_subplot(1, 2, 1)\n",
        "imgplot = plt.imshow(first_example_images[0].permute(1, 2, 0))\n",
        "ax.set_title('First operand')\n",
        "ax = fig.add_subplot(1, 2, 2)\n",
        "imgplot = plt.imshow(first_example_images[1].permute(1, 2, 0))\n",
        "ax.set_title('Second operand')\n",
        "plt.show()\n",
        "print(\"The target label (sum) for these operands is: %d\" % first_example_label.item())\n"
      ]
    },
    {
      "cell_type": "markdown",
      "metadata": {
        "id": "zKqD82LoO_jz"
      },
      "source": [
        "---\n",
        "\n",
        "## 1.3. Utils\n",
        "\n",
        "Now, we need to define some utility classes and functions.\n",
        "\n",
        "We define a standard PyTorch data loader, which takes as input the dataset and returns a generator of batches of data.\n",
        "In particular, we need a data loader instance for training data and one for testing data.\n"
      ]
    },
    {
      "cell_type": "code",
      "execution_count": 3,
      "metadata": {
        "id": "JsXkEu0PO_j0",
        "pycharm": {
          "name": "#%%\n"
        }
      },
      "outputs": [],
      "source": [
        "import numpy as np\n",
        "\n",
        "# this is a standard PyTorch DataLoader to load the dataset for the training and testing of the model\n",
        "class DataLoader(object):\n",
        "    \"\"\"\n",
        "    Custom data loader for handling digit-pair datasets.\n",
        "\n",
        "    Loads batches of digit image pairs and their associated sum labels.\n",
        "    Designed for both supervised and semi-supervised learning setups.\n",
        "    \"\"\"\n",
        "    def __init__(self, fold, batch_size=1, shuffle=True):\n",
        "        self.fold = fold\n",
        "        self.batch_size = batch_size\n",
        "        self.shuffle = shuffle\n",
        "\n",
        "    def __len__(self):\n",
        "        return int(np.ceil(self.fold[0].shape[0] / self.batch_size))\n",
        "\n",
        "    def __iter__(self):\n",
        "        n = self.fold[0].shape[0]\n",
        "        idxlist = list(range(n))\n",
        "        if self.shuffle:\n",
        "            np.random.shuffle(idxlist)\n",
        "\n",
        "        for _, start_idx in enumerate(range(0, n, self.batch_size)):\n",
        "            end_idx = min(start_idx + self.batch_size, n)\n",
        "            digits = self.fold[0][idxlist[start_idx:end_idx]]\n",
        "            addition_labels = self.fold[1][idxlist[start_idx:end_idx]]\n",
        "            digit_labels = self.fold[2][idxlist[start_idx:end_idx]]\n",
        "\n",
        "            yield digits, addition_labels, digit_labels\n",
        "\n",
        "# create train and test loader\n",
        "train_loader = DataLoader(train_set, 32, shuffle=True)\n",
        "test_loader = DataLoader(test_set, 32, shuffle=False)"
      ]
    },
    {
      "cell_type": "markdown",
      "metadata": {
        "id": "cP1raEx_O_j0"
      },
      "source": [
        "# 2. Baseline Model\n",
        "\n",
        "As specified earlier, we design a simple convolutional neural network to predict MNIST digits. Here we split the model into two parts -- a pure ConvNet part and a set of dense layers for prediction. This is done for convenience with respect to the logic-related packages later on.\n"
      ]
    },
    {
      "cell_type": "code",
      "execution_count": 5,
      "metadata": {
        "id": "BIsbHODQO_j0"
      },
      "outputs": [],
      "source": [
        "import torch.nn as nn\n",
        "\n",
        "class MNISTConv(torch.nn.Module):\n",
        "    \"\"\"\n",
        "    Convolutional neural network for single digit classification on MNIST.\n",
        "\n",
        "    Outputs 10 logits corresponding to digit classes 0–9.\n",
        "    \"\"\"\n",
        "    def __init__(self, conv_channels_sizes=(1, 6, 16), kernel_sizes=(5, 5), linear_layers_sizes=(256, 100)):\n",
        "        super(MNISTConv, self).__init__()\n",
        "        self.conv_layers = torch.nn.ModuleList([torch.nn.Conv2d(conv_channels_sizes[i - 1], conv_channels_sizes[i],\n",
        "                                                                kernel_sizes[i - 1])\n",
        "                                                  for i in range(1, len(conv_channels_sizes))])\n",
        "        self.relu = torch.nn.ReLU()  # relu is used as activation for the conv layers\n",
        "        self.tanh = torch.nn.Tanh()  # tanh is used as activation for the linear layers\n",
        "        self.maxpool = torch.nn.MaxPool2d((2, 2))\n",
        "        self.linear_layers = torch.nn.ModuleList([torch.nn.Linear(linear_layers_sizes[i - 1], linear_layers_sizes[i])\n",
        "                                                  for i in range(1, len(linear_layers_sizes))])\n",
        "        self.batch_norm_layers = torch.nn.ModuleList([torch.nn.BatchNorm1d(linear_layers_sizes[i])\n",
        "                                                      for i in range(1, len(linear_layers_sizes))])\n",
        "\n",
        "    def forward(self, x):\n",
        "        for conv in self.conv_layers:\n",
        "            x = self.relu(conv(x))\n",
        "            x = self.maxpool(x)\n",
        "        x = torch.flatten(x, start_dim=1)\n",
        "        for i in range(len(self.linear_layers)):\n",
        "            x = self.tanh(self.batch_norm_layers[i](self.linear_layers[i](x)))\n",
        "        return x\n",
        "\n",
        "\n",
        "class SingleDigitClassifier(torch.nn.Module):\n",
        "    \"\"\"\n",
        "    A wrapper for digit classification used within logic-based models.\n",
        "\n",
        "    Typically outputs logits or fuzzy truth scores over digit values.\n",
        "    \"\"\"\n",
        "    def __init__(self, layers_sizes=(100, 84, 10)):\n",
        "        super(SingleDigitClassifier, self).__init__()\n",
        "        self.mnistconv = MNISTConv()  # this is the convolutional part of the architecture\n",
        "        self.tanh = torch.nn.Tanh()  # tanh is used as activation for the linear layers\n",
        "        self.linear_layers = torch.nn.ModuleList([torch.nn.Linear(layers_sizes[i - 1], layers_sizes[i])\n",
        "                                                  for i in range(1, len(layers_sizes))])\n",
        "        self.batch_norm_layers = torch.nn.ModuleList([torch.nn.BatchNorm1d(layers_sizes[i])\n",
        "                                                      for i in range(1, len(layers_sizes))])\n",
        "\n",
        "    def forward(self, x):\n",
        "        x = self.mnistconv(x.to(device))\n",
        "        for i in range(len(self.linear_layers) - 1):\n",
        "            x = self.tanh(self.batch_norm_layers[i](self.linear_layers[i](x)))\n",
        "        return self.linear_layers[-1](x)  # in the last layer a sigmoid or a softmax has to be applied\n",
        "\n"
      ]
    },
    {
      "cell_type": "markdown",
      "metadata": {
        "id": "drzqJciqO_j0"
      },
      "source": [
        "## 2.2 Basic Training Loop\n",
        "\n",
        "We now define a simple training function that trains and evaluates the baseline model.\n",
        "\n",
        "\n",
        "<font color='green'><b>ToDo 2.2.1</b></font>\n",
        "\n",
        "Complete the following function."
      ]
    },
    {
      "cell_type": "code",
      "execution_count": 6,
      "metadata": {
        "id": "L1CiNeC4O_j1"
      },
      "outputs": [
        {
          "name": "stdout",
          "output_type": "stream",
          "text": [
            "Epoch 1 | Train Loss: 1826.4632, Train Sum Acc: 25.84%, Test Loss: 151.4389, Test Sum Acc: 30.88%, Test Digit Acc: 22.92%\n",
            "Epoch 2 | Train Loss: 841.5172, Train Sum Acc: 30.65%, Test Loss: 97.1470, Test Sum Acc: 32.70%, Test Digit Acc: 32.96%\n",
            "Epoch 3 | Train Loss: 627.1990, Train Sum Acc: 31.40%, Test Loss: 86.5637, Test Sum Acc: 32.94%, Test Digit Acc: 36.52%\n",
            "Epoch 4 | Train Loss: 531.5772, Train Sum Acc: 31.80%, Test Loss: 87.5479, Test Sum Acc: 33.02%, Test Digit Acc: 35.80%\n",
            "Epoch 5 | Train Loss: 458.0997, Train Sum Acc: 32.34%, Test Loss: 62.8808, Test Sum Acc: 33.62%, Test Digit Acc: 37.49%\n",
            "Epoch 6 | Train Loss: 391.3106, Train Sum Acc: 32.72%, Test Loss: 68.9130, Test Sum Acc: 34.10%, Test Digit Acc: 46.42%\n",
            "Epoch 7 | Train Loss: 368.6052, Train Sum Acc: 34.48%, Test Loss: 57.6865, Test Sum Acc: 34.82%, Test Digit Acc: 47.92%\n",
            "Epoch 8 | Train Loss: 325.0940, Train Sum Acc: 34.88%, Test Loss: 57.0158, Test Sum Acc: 34.76%, Test Digit Acc: 48.61%\n",
            "Epoch 9 | Train Loss: 298.4772, Train Sum Acc: 35.32%, Test Loss: 52.0480, Test Sum Acc: 35.26%, Test Digit Acc: 48.92%\n",
            "Epoch 10 | Train Loss: 294.3550, Train Sum Acc: 35.25%, Test Loss: 46.1623, Test Sum Acc: 35.56%, Test Digit Acc: 49.28%\n"
          ]
        }
      ],
      "source": [
        "import numpy as np\n",
        "import torch.nn.functional as F\n",
        "\n",
        "def train_simple(model, optimizer, train_loader, test_loader, n_epochs=10, verbose=False):\n",
        "    \"\"\"\n",
        "    Trains a neural model on digit addition using weak supervision from sum labels.\n",
        "\n",
        "    This function uses soft expected value (via softmax) to infer digits and minimize MSE\n",
        "    between predicted and true digit sums. Tracks multiple evaluation metrics per epoch.\n",
        "\n",
        "    Args:\n",
        "        model (nn.Module): Neural model predicting digit logits.\n",
        "        optimizer (torch.optim.Optimizer): Optimizer for model parameters.\n",
        "        train_loader (DataLoader): DataLoader yielding (images, sum, digits).\n",
        "        test_loader (DataLoader): Same format for evaluation.\n",
        "        n_epochs (int): Number of training epochs.\n",
        "        verbose (bool): Whether to print metrics each epoch.\n",
        "\n",
        "    Returns:\n",
        "        dict: Dictionary of tracked metrics per epoch.\n",
        "    \"\"\"\n",
        "\n",
        "    metrics = {\n",
        "        \"loss\": np.full([n_epochs], np.nan),\n",
        "        \"test_loss\": np.full([n_epochs], np.nan),\n",
        "        \"accuracy_sum\": np.full([n_epochs], np.nan),\n",
        "        \"test_accuracy_sum\": np.full([n_epochs], np.nan),\n",
        "        \"test_accuracy_digit\": np.full([n_epochs], np.nan),\n",
        "    }\n",
        "\n",
        "    mse_loss = torch.nn.MSELoss()\n",
        "    digit_range = torch.arange(10).float().to(device)  # for expected value\n",
        "\n",
        "    for epoch in range(n_epochs):\n",
        "        model.train()\n",
        "        total_loss = 0\n",
        "        correct_sum_train = 0\n",
        "        total_train = 0\n",
        "\n",
        "        # === TRAINING ===\n",
        "        for operand_images, sum_label, _ in train_loader:\n",
        "            img1 = operand_images[:, 0].to(device)\n",
        "            img2 = operand_images[:, 1].to(device)\n",
        "            sum_label = sum_label.to(device)\n",
        "\n",
        "            optimizer.zero_grad()\n",
        "            out1 = model(img1)\n",
        "            out2 = model(img2)\n",
        "\n",
        "            probs1 = F.softmax(out1, dim=1)\n",
        "            probs2 = F.softmax(out2, dim=1)\n",
        "\n",
        "            expected1 = probs1 @ digit_range # weighted sum\n",
        "            expected2 = probs2 @ digit_range\n",
        "            pred_sum = expected1 + expected2\n",
        "\n",
        "            loss = mse_loss(pred_sum.float(), sum_label.float())  # MSE loss between predicted and true sum\n",
        "            loss.backward()\n",
        "            optimizer.step()\n",
        "\n",
        "            total_loss += loss.item()\n",
        "\n",
        "            # Track sum accuracy\n",
        "            predicted_digit1 = probs1.argmax(dim=-1)\n",
        "            predicted_digit2 = probs2.argmax(dim=-1)\n",
        "            predicted_sum = predicted_digit1 + predicted_digit2\n",
        "\n",
        "            correct_sum_train += len([True for pred, label in zip(predicted_sum, sum_label) if pred == label])\n",
        "            total_train += sum_label.size(0)\n",
        "\n",
        "        metrics[\"loss\"][epoch] = total_loss / len(train_loader)\n",
        "        metrics[\"accuracy_sum\"][epoch] = correct_sum_train / total_train\n",
        "\n",
        "        # === EVALUATION ===\n",
        "        model.eval()\n",
        "        correct_sum = 0\n",
        "        correct_digits = 0\n",
        "        total_test = 0\n",
        "        test_loss = 0\n",
        "\n",
        "        with torch.no_grad():\n",
        "            for operand_images, sum_label, digit_labels in test_loader:\n",
        "                img1 = operand_images[:, 0].to(device)\n",
        "                img2 = operand_images[:, 1].to(device)\n",
        "                # >> img shape: (32, 1, 28, 28)\n",
        "                sum_label = sum_label.to(device)\n",
        "                # >> sum_label shape: (32)\n",
        "                digit_labels = digit_labels.to(device)\n",
        "\n",
        "                # your code here\n",
        "                out1 = model(img1)\n",
        "                out2 = model(img2)\n",
        "                # >> model output shape: torch.Size([32, 10])\n",
        "\n",
        "                probs1 = F.softmax(out1, dim=1)\n",
        "                probs2 = F.softmax(out2, dim=1)\n",
        "                # >> probs shape: torch.Size([32, 10])\n",
        "\n",
        "                expected1 = probs1 @ digit_range # weighted sum\n",
        "                expected2 = probs2 @ digit_range\n",
        "                # >> expected shape: (32)\n",
        "                # This is the expected value of the predicted digit?\n",
        "\n",
        "                pred_sum = expected1 + expected2\n",
        "\n",
        "                loss = mse_loss(pred_sum.float(), sum_label.float())\n",
        "\n",
        "                test_loss += loss.item()\n",
        "\n",
        "                predicted_digit1 = probs1.argmax(dim=-1)\n",
        "                predicted_digit2 = probs2.argmax(dim=-1)\n",
        "                pred_sum_class = predicted_digit1 + predicted_digit2\n",
        "\n",
        "                # Count the number of times predicted sum is correct\n",
        "                correct_sum += len([True for pred, label in zip(pred_sum_class, sum_label) if pred == label])\n",
        "                # count the number of times predicted_digit1 matches the label\n",
        "                correct_digits += len([True for pred, label in zip(predicted_digit1, digit_labels[:, 0]) if pred == label]) / digit_labels.shape[0]\n",
        "                # count the number of times predicted_digit2 matches the label\n",
        "                correct_digits += len([True for pred, label in zip(predicted_digit2, digit_labels[:, 1]) if pred == label]) / digit_labels.shape[0]\n",
        "                total_test += sum_label.size(0)\n",
        "                # Changed from total\n",
        "\n",
        "        metrics[\"test_loss\"][epoch] = test_loss / len(test_loader)\n",
        "        metrics[\"test_accuracy_sum\"][epoch] = correct_sum / total_test\n",
        "        metrics[\"test_accuracy_digit\"][epoch] = correct_digits / (2*len(test_loader))\n",
        "\n",
        "        if verbose:\n",
        "            print(f\"Epoch {epoch+1} | \"\n",
        "                  f\"Train Loss: {total_loss:.4f}, \"\n",
        "                  f\"Train Sum Acc: {metrics['accuracy_sum'][epoch]*100:.2f}%, \"\n",
        "                  f\"Test Loss: {test_loss:.4f}, \"\n",
        "                  f\"Test Sum Acc: {metrics['test_accuracy_sum'][epoch]*100:.2f}%, \"\n",
        "                  f\"Test Digit Acc: {metrics['test_accuracy_digit'][epoch]*100:.2f}%\")\n",
        "\n",
        "    return metrics\n",
        "\n",
        "device = torch.device(\"cuda\" if torch.cuda.is_available() else \"cpu\")\n",
        "\n",
        "model = SingleDigitClassifier().to(device)  # should output shape (batch, 10)\n",
        "optimizer = torch.optim.Adam(model.parameters(), lr=0.001) # use Adam with lr=0.001\n",
        "metrics_cnn = train_simple(model, optimizer,\n",
        "                           train_loader, test_loader,\n",
        "                           n_epochs=10, verbose=True)"
      ]
    },
    {
      "cell_type": "markdown",
      "metadata": {
        "id": "2DlA5QAjO_j1"
      },
      "source": [
        "## 2.3. Plotting Results\n",
        "\n",
        "We plot the results of the metrics above to make it easier to analyze learning behaviour.\n",
        "\n",
        "\n",
        "<font color='green'><b>ToDo 2.3.1</b></font>\n",
        "\n",
        "Complete the following function"
      ]
    },
    {
      "cell_type": "code",
      "execution_count": 7,
      "metadata": {
        "id": "5hHE81ubO_j1"
      },
      "outputs": [
        {
          "data": {
            "image/png": "[encoded data removed]",
            "text/plain": [
              "<Figure size 1800x400 with 3 Axes>"
            ]
          },
          "metadata": {},
          "output_type": "display_data"
        }
      ],
      "source": [
        "import matplotlib.pyplot as plt\n",
        "\n",
        "def plot_training_metrics(metrics):\n",
        "    \"\"\"\n",
        "    Plots 3 training metrics: loss, sum accuracy, and digit accuracy.\n",
        "    \"\"\"\n",
        "    epochs = range(1, len(metrics[\"loss\"]) + 1)\n",
        "\n",
        "    fig, axs = plt.subplots(1, 3, figsize=(18, 4))\n",
        "\n",
        "    for name in [\"train\", \"test\"]:\n",
        "      if name == \"train\":\n",
        "        # --- Plot 1: Losses ---\n",
        "        axs[0].plot(epochs, metrics[\"loss\"], label=\"train loss\")\n",
        "        # --- Plot 2: Sum Accuracies ---\n",
        "        axs[1].plot(epochs, metrics[\"accuracy_sum\"], label=\"train acc\")\n",
        "      else:\n",
        "        axs[0].plot(epochs, metrics[\"test_loss\"], label=\"test loss\")\n",
        "        axs[1].plot(epochs, metrics[\"test_accuracy_sum\"], label=\"test acc\")\n",
        "        # --- Plot 3: Digit Accuracy ---\n",
        "        axs[2].plot(epochs, metrics[\"test_accuracy_digit\"], label=\"test digit acc\")\n",
        "\n",
        "    for ax in axs:\n",
        "      ax.legend()\n",
        "    plt.tight_layout()\n",
        "    plt.show()\n",
        "\n",
        "plot_training_metrics(metrics_cnn)"
      ]
    },
    {
      "cell_type": "markdown",
      "metadata": {
        "id": "HYumtgo4O_j1",
        "pycharm": {
          "name": "#%% md\n"
        }
      },
      "source": [
        "---\n",
        "\n",
        "# 3. Logic Tensor Networks: Formality\n",
        "\n",
        "A natural neuro-symbolic approach is to seek to learn a single digit classifier and\n",
        "benefit from knowledge readily available about the properties of the addition in this case.\n",
        "For instance, suppose that a predicate $digit(x,d)$ gives the likelihood of an image $x$\n",
        "being of digit $d$. A definition for $addition(img(3), img(8), 11)$ in LTN is:\n",
        "\n",
        "$$\\exists d_1, d_2 : d_1 + d_2 = 11 \\text{ } (digit(img(3), d_1) \\land digit(img(8), d_2))$$\n",
        "\n",
        "The above task is made more complicated by not providing labels for the\n",
        "single digit images during training. Instead, training takes place on pairs of images\n",
        "with labels made available for the result only, that is, the sum of the individual\n",
        "labels. The single digit classifier is not explicitly trained by itself. Its output is a\n",
        "latent information which is used by the logic. However, this does not pose a problem\n",
        "for end-to-end Neuro-symbolic systems such as LTN, for which the\n",
        "gradients can propagate through the logical structures.\n",
        "\n",
        "We start by illustrating an LTN theory that can be used to learn the predicate\n",
        "$digit$. The specification of the theory below is for the single digit addition task:\n",
        "\n",
        "<hr style=\"width:60%\">\n",
        "\n",
        "**Domains:**\n",
        "- $images$, denoting the MNIST digit images;\n",
        "- $results$, denoting the integers which are the labels for the results of the additions;\n",
        "- $digits$, denoting the digits from 0 to 9.\n",
        "\n",
        "**Variables:**\n",
        "- $x, y$ ranging over the MNIST images;\n",
        "- $n$ for the labels, i.e., the results of the additions;\n",
        "- $d_1, d_2$ ranging over digits;\n",
        "- $D(x) = D(y) = images$;\n",
        "- $D(n) = results$;\n",
        "- $D(d_1) = d(d_2) = digits$.\n",
        "\n",
        "**Predicates:**\n",
        "- $digit(x, d)$ for the single digit classifier, where $d$ is a term denoting a digit\n",
        "constant or a digit variable. The classifier should return the probability of an\n",
        "image $x$ being of digit $d$;\n",
        "- $D_{in}(digit) = images,digits$.\n",
        "\n",
        "**Axioms:**\n",
        "\n",
        "Single digit addition:\n",
        "\n",
        "$\\forall Diag(x, y, n) \\text{ } (\\exists d_1, d_2 : d_1 + d_2 = n \\text{ } (digit(x, d_1) \\land digit(y, d_2)))$\n",
        "\n",
        "Notice the use of $Diag$: when grounding $x,y,n$ with three sequences of values,\n",
        "the *i-th* examples of each variable are matching. That is, $(\\mathcal{G}(x)_i, \\mathcal{G}(y)_i, \\mathcal{G}(n)_i)$ is\n",
        "a tuple from our dataset of valid additions. Using the diagonal quantification,\n",
        "LTN aggregates pairs of images and their corresponding result, rather than any\n",
        "combination of images and results.\n",
        "\n",
        "Notice also the guarded quantification: by quantifying only on the \"intermediate labels\" (not given during training)\n",
        "that could add up to the result label\n",
        "(given during training), we incorporate symbolic information into the system.\n",
        "\n",
        "\n",
        "**Grounding:**\n",
        "- $\\mathcal{G}(images)=[0, 1]^{28 \\times 28 \\times 1}$. The MNIST dataset has images of 28 by 28 pixels.\n",
        "The images are grayscale and have just one channel. The RGB pixel values from\n",
        "0 to 255 of the MNIST dataset are scaled to the range [0, 1];\n",
        "- $\\mathcal{G}(results)=\\mathbb{N}$;\n",
        "- $\\mathcal{G}(digits) = {0, 1, \\dots, 9}$;\n",
        "- $\\mathcal{G}(x) \\in[0,1]^{m \\times 28 \\times 28 \\times 1}, \\mathcal{G}(y) \\in[0,1]^{m \\times 28 \\times 28 \\times 1}, \\mathcal{G}(n) \\in \\mathbb{N}^{m}$.\n",
        "Notice the use of the same number $m$ of examples for each of these variables as they are supposed\n",
        "to match one-to-one due to the use of $Diag$;\n",
        "- $\\mathcal{G}\\left(d_{1}\\right)=\\mathcal{G}\\left(d_{2}\\right)=\\langle 0,1, \\ldots, 9\\rangle$;\n",
        "- $\\mathcal{G}(digit \\mid \\theta): x, d \\rightarrow \\operatorname{onehot}(d)^{\\top} \\cdot \\operatorname{softmax}\\left(\\operatorname{CNN}_{\\theta}(x)\\right)$, where $CNN$\n",
        "is a Convolutional Neural Network with 10 output neurons for each class. Notice that, in contrast\n",
        "with the previous examples, $d$ is an integer label; $onehot(d)$ converts it into a\n",
        "one-hot label.\n",
        "\n",
        "<hr style=\"width:60%\">\n",
        "\n",
        "In order to define our knowledge base (axioms), we need to define predicate the $digit$, variables $d_1$ and $d_2$,\n",
        "connectives, universal and existential quantifiers."
      ]
    },
    {
      "cell_type": "markdown",
      "metadata": {
        "id": "vapjvK9SO_j2"
      },
      "source": [
        "---\n",
        "\n",
        "## 3.1 *Detour*: Differentiable Logic\n",
        "\n",
        "Now that we've defined how terms and predicates are *grounded* in values (e.g., numbers, probabilities), we turn our attention to **logical connectives** like AND, OR, and NOT. In classical logic, these operators are binary — they yield `True` or `False`. But in neural systems, we need **differentiable** versions of these operators so that logical expressions can be optimized using gradient descent.\n",
        "\n",
        "## 3.2 Fuzzy Operators (Connectives)\n",
        "\n",
        "One example of a differentiable logic with well-understood semantics is **fuzzy logic**, where truth values lie in the continuous range \\([0, 1]\\). Logical connectives are redefined as smooth functions that ideally preserve logical structure and enable learning.\n",
        "\n",
        "For example (Łukasiewicz):\n",
        "- `fuzzy_and(a, b) = max(0, a + b - 1)`\n",
        "- `fuzzy_or(a, b) = min(1, a + b)`\n",
        "- `fuzzy_not(a) = 1 - a`\n",
        "\n",
        "There are many such formulations (e.g., product logic, Gödel logic), each with different trade-offs.\n",
        "\n",
        "<font color='blue'><b>ToThink</b></font>\n",
        "> Why do you think we can't use standard Boolean logic inside a neural model? What would happen during backpropagation if our logic was non-differentiable?\n",
        "\n",
        "<font color='green'><b>ToDo 3.2.1</b></font>\n",
        "> Implement your own versions of the basic fuzzy logic operators below:\n",
        "> - `fuzzy_and(a, b)`\n",
        "> - `fuzzy_or(a, b)`\n",
        "> - `fuzzy_not(a)`\n",
        "\n",
        "Use PyTorch functions so they can be used in model training. The skeleton code to make it work nicely with the LTN package is given to you."
      ]
    },
    {
      "cell_type": "code",
      "execution_count": 8,
      "metadata": {
        "id": "vzn6HXIcO_j2"
      },
      "outputs": [
        {
          "name": "stdout",
          "output_type": "stream",
          "text": [
            "a: tensor([0.0000, 0.3000, 0.5000, 0.7000, 1.0000])\n",
            "b: tensor([0.3000, 0.1000, 0.0000, 0.7000, 0.2000])\n",
            "AND (Łukasiewicz): tensor([0.0000, 0.0000, 0.0000, 0.4000, 0.2000])\n",
            "OR  (Łukasiewicz): tensor([0.3000, 0.4000, 0.5000, 1.0000, 1.0000])\n",
            "NOT (Łukasiewicz): tensor([1.0000, 0.7000, 0.5000, 0.3000, 0.0000])\n"
          ]
        }
      ],
      "source": [
        "import ltn\n",
        "from ltn.fuzzy_ops import ConnectiveOperator\n",
        "\n",
        "class Lukasiewicz_AND(ConnectiveOperator):\n",
        "    def __call__(self, x, y):\n",
        "      val = x+y - 1\n",
        "      # Return the element-wise maximum\n",
        "      return torch.maximum(torch.zeros_like(val), val)\n",
        "\n",
        "\n",
        "class Lukasiewicz_OR(ConnectiveOperator):\n",
        "    def __call__(self, x, y):\n",
        "      val = x+y\n",
        "      # Return the element-wise minimum\n",
        "      return torch.minimum(torch.ones_like(val), val)\n",
        "\n",
        "class Lukasiewicz_NOT(ConnectiveOperator):\n",
        "    def __call__(self, x):\n",
        "      return 1.0 - x\n",
        "\n",
        "# Sanity check!\n",
        "# Create tensors with edge and mid-range values\n",
        "a = torch.tensor([0.0, 0.3, 0.5, 0.7, 1.0])\n",
        "b = torch.tensor([0.3, 0.1, 0.0, 0.7, 0.2])\n",
        "\n",
        "and_op = Lukasiewicz_AND()\n",
        "or_op = Lukasiewicz_OR()\n",
        "not_op = Lukasiewicz_NOT()\n",
        "\n",
        "print(\"a:\", a)\n",
        "print(\"b:\", b)\n",
        "\n",
        "print(\"AND (Łukasiewicz):\", and_op(a, b))  # Should range [0, 1]\n",
        "print(\"OR  (Łukasiewicz):\", or_op(a, b))   # Should not exceed 1\n",
        "print(\"NOT (Łukasiewicz):\", not_op(a))     # Should reflect 1 - a"
      ]
    },
    {
      "cell_type": "markdown",
      "metadata": {
        "id": "1uaBWNU-O_j2"
      },
      "source": [
        "---\n",
        "\n",
        "## 3.3 Fuzzy Operators Differentiable Quantification: Mean vs. MeanError\n",
        "\n",
        "In LTN, universal and existential quantifiers are implemented using differentiable aggregators over truth values:\n",
        "\n",
        "- **Forall (∀)** uses `MeanError`  \n",
        "  → Emphasizes **violations** by penalizing low truth values.  \n",
        "  → Makes the model work harder to satisfy *every instance*.\n",
        "\n",
        "- **Exists (∃)** uses `Mean`  \n",
        "  → Encourages **at least one** high truth value.  \n",
        "  → Suitable for existential satisfaction without hard decisions.\n",
        "\n",
        "This design balances **gradient flow** and **logical intent** — making it possible to train logic-guided models without discrete steps.\n",
        "\n",
        "<font color='blue'><b>ToThink 2</b></font>\n",
        "Though the code has been given to you for ease, please deeply understand it. Notably, the `mask` is a selector for the diagonalized selection predicate, and its application is equivalent to indexing something like `(digit1[i],digit2[i],sumlabel[i])`."
      ]
    },
    {
      "cell_type": "code",
      "execution_count": 9,
      "metadata": {
        "id": "9hgWO9muO_j3"
      },
      "outputs": [],
      "source": [
        "class AggregMean(ltn.fuzzy_ops.AggregationOperator):\n",
        "    def __call__(self, xs, dim=None, keepdim=False, mask=None):\n",
        "        if mask is not None:\n",
        "            numerator = torch.sum(torch.where(~mask, torch.zeros_like(xs), xs))\n",
        "            # we count the number of 1 in the mask\n",
        "            denominator = torch.sum(mask)\n",
        "            return torch.div(numerator, denominator)\n",
        "        else:\n",
        "            return torch.mean(xs, dim=dim, keepdim=keepdim)\n",
        "\n",
        "class AggregMeanError(ltn.fuzzy_ops.AggregationOperator):\n",
        "    def __call__(self, xs, dim=None, keepdim=False, mask=None):\n",
        "        if mask is not None:\n",
        "            # here, we put 1 where the mask is not satisfied, since 1 is the maximum value for a truth value.\n",
        "            # this is a way to exclude values from the minimum computation\n",
        "            xs = torch.where(~mask, 1., xs.double())\n",
        "        out = torch.amin(xs, dim=dim, keepdim=keepdim)\n",
        "        return out"
      ]
    },
    {
      "cell_type": "markdown",
      "metadata": {
        "id": "v_bmJjwRO_j3"
      },
      "source": [
        "## 3.4 Learning\n",
        "\n",
        "Let us define $D$ the data set of all examples. The objective function is given by $\\operatorname{SatAgg}_{\\phi \\in \\mathcal{K}} \\mathcal{G}_{\\boldsymbol{\\theta}, x \\leftarrow \\boldsymbol{D}}(\\phi)$.\n",
        "\n",
        "In practice, the optimizer uses the following loss function:\n",
        "\n",
        "$$\\boldsymbol{L}=\\left(1-\\underset{\\phi \\in \\mathcal{K}}{\\operatorname{SatAgg}} \\mathcal{G}_{\\boldsymbol{\\theta}, x \\leftarrow \\boldsymbol{B}}(\\phi)\\right)$$\n",
        "\n",
        "\n",
        "where $B$ is a mini batch sampled from $D$. As a reminder, (roughly speaking) $\\mathcal{G}_{\\boldsymbol{\\theta}}$ is the grounded version of the following axiom:\n",
        "\n",
        "$$\\forall Diag(x, y, n) \\text{ } (\\exists d_1, d_2 : d_1 + d_2 = n \\text{ } (digit(x, d_1) \\land digit(y, d_2)))$$\n",
        "\n",
        "This can be implemented as the following:\n",
        "\n",
        "        sat_agg = Forall(\n",
        "            ltn.diag(images_x, images_y, labels_z),\n",
        "            Exists(\n",
        "                vars=[d_1, d_2],\n",
        "                formula=And(model(images_x, d_1), model(images_y, d_2)),\n",
        "                cond_vars=[d_1, d_2, labels_z],\n",
        "                cond_fn=lambda d1, d2, z: torch.eq(d1.value + d2.value, z.value),\n",
        "            )\n",
        "        ).value\n",
        "\n",
        "Notice that variables $x$, $y$, and $n$ are grounded batch by batch with new data arriving from the data loader. This is exactly what\n",
        "we mean with $\\mathcal{G}_{x \\leftarrow \\boldsymbol{B}}(\\phi(x))$, where $B$ is a mini-batch sampled by the data loader. Additionally, the $Diag(x,y,z)$ predicate is implemented as a conditional quantification that covers only those pairs of examples where $x+y=z$.\n",
        "\n",
        "<font color='blue'><b>ToThink </b></font> What happens if logical constraints contradict the labeled data? How should the model resolve this tension during training?\n",
        "\n",
        "\n",
        "## 3.5 Digit Predicate\n",
        "\n",
        "For predicate $digit$, we have two models. The first one implements a $CNN$ which outputs the logits for the ten classes of\n",
        "the MNIST dataset, given an image $x$ in input (this was done above within the class `SingleDigitClassifier`). The second model takes as input a labelled example $(x,d)$, it computes the logits using the first model and then returns the prediction (*softmax*) for class $d$. In other words, it computes the likelihood of image $d$ being of digit $d$. This is done below in class `LogitsToPredicate`.\n",
        "\n",
        "We need two separated models because we need both logits and probabilities. Logits are used to compute the classification\n",
        "accuracy, while probabilities are interpreted as truth values to compute the satisfaction level of the knowledge base.\n"
      ]
    },
    {
      "cell_type": "code",
      "execution_count": 10,
      "metadata": {
        "id": "kCA2qrS-O_j3"
      },
      "outputs": [],
      "source": [
        "class LogitsToPredicate(torch.nn.Module):\n",
        "    \"\"\"\n",
        "    This model has inside a logits model, that is a model which compute logits for the classes given an input example x.\n",
        "    The idea of this model is to keep logits and probabilities separated. The logits model returns the logits for an example,\n",
        "    while this model returns the probabilities given the logits model.\n",
        "\n",
        "    In particular, it takes as input an example x and a class label d. It applies the logits model to x to get the logits.\n",
        "    Then, it applies a softmax function to get the probabilities per classes. Finally, it returns only the probability related\n",
        "    to the given class d.\n",
        "    \"\"\"\n",
        "    def __init__(self, logits_model):\n",
        "        super(LogitsToPredicate, self).__init__()\n",
        "        self.logits_model = logits_model\n",
        "        self.softmax = torch.nn.Softmax(dim=1)\n",
        "\n",
        "    def forward(self, x, d):\n",
        "        logits = self.logits_model(x)\n",
        "        probs = self.softmax(logits)\n",
        "        out = torch.gather(probs, 1, d)\n",
        "        return out"
      ]
    },
    {
      "cell_type": "markdown",
      "metadata": {
        "id": "ytmPpjMTO_j3"
      },
      "source": [
        "The variables $d_1$ and $d_2$ represent the 10 digit labels of the MNIST dataset, namely they are the sequence $\\langle 0,1, \\ldots, 9\\rangle$."
      ]
    },
    {
      "cell_type": "code",
      "execution_count": 11,
      "metadata": {
        "id": "YeJv9acRO_j3"
      },
      "outputs": [],
      "source": [
        "# # we define the variables\n",
        "d_1 = ltn.Variable(\"d_1\", torch.tensor(range(10)))\n",
        "d_2 = ltn.Variable(\"d_2\", torch.tensor(range(10)))"
      ]
    },
    {
      "cell_type": "markdown",
      "metadata": {
        "id": "Ae4ffQwZO_j3",
        "pycharm": {
          "name": "#%% md\n"
        }
      },
      "source": [
        "## 3.6 Logic-related Training Loop\n",
        "\n",
        "In the following, we learn our LTN for the single digit case using the fuzzy quantifiers defined earlier. We train our model for 10 epochs and use the `Adam` optimizer with a batch size of 32. The model and hyperparameters remain the same as the baseline in order to main robust comparison.\n",
        "\n",
        "The accuracy is measured by predicting the digit values using the predicate $digit$ and reporting the ratio of\n",
        "examples for which the addition is correct. Within each epoch, satisfaction level and accuracy on both training and\n",
        "test data are visualized.\n",
        "\n",
        "<font color='green'><b>ToDo </b></font>\n",
        "Based on the baseline training loop from earlier, finish the following function."
      ]
    },
    {
      "cell_type": "code",
      "execution_count": 12,
      "metadata": {
        "id": "b8MnP6jXO_j3"
      },
      "outputs": [],
      "source": [
        "import numpy as np\n",
        "import torch.nn.functional as F\n",
        "\n",
        "\n",
        "def train_logic(model, optimizer, train_loader, test_loader, And, Exists, Forall, n_epochs=30, verbose=False):\n",
        "    \"\"\"\n",
        "    Trains a model using Logic Tensor Networks (LTN) with symbolic constraints.\n",
        "\n",
        "    The logic enforces that predicted digits should sum to the provided label using\n",
        "    LTN's `Forall` and `Exists` quantifiers. Tracks sat rate, loss, and accuracy.\n",
        "\n",
        "    Args:\n",
        "        model (LTN Predicate): A predicate object returning logits.\n",
        "        optimizer (torch.optim.Optimizer): Optimizer instance.\n",
        "        train_loader (DataLoader): Loader yielding image pairs and sum.\n",
        "        test_loader (DataLoader): Loader with ground truth for evaluation.\n",
        "        n_epochs (int): Training duration.\n",
        "        verbose (bool): Print epoch-level metrics.\n",
        "\n",
        "    Returns:\n",
        "        dict: Metrics dictionary including accuracy and satisfaction rates.\n",
        "    \"\"\"\n",
        "    metrics = {\n",
        "        \"loss\": np.full([n_epochs], np.nan),\n",
        "        \"test_loss\": np.full([n_epochs], np.nan),\n",
        "        \"accuracy_sum\": np.full([n_epochs], np.nan),\n",
        "        \"test_accuracy_sum\": np.full([n_epochs], np.nan),\n",
        "        \"test_accuracy_digit\": np.full([n_epochs], np.nan),\n",
        "        \"sat\": np.full([n_epochs], np.nan),\n",
        "        \"test_sat\": np.full([n_epochs], np.nan),\n",
        "    }\n",
        "\n",
        "    d_1 = ltn.Variable(\"d_1\", torch.tensor(range(10)))\n",
        "    d_2 = ltn.Variable(\"d_2\", torch.tensor(range(10)))\n",
        "\n",
        "    for epoch in range(n_epochs):\n",
        "        model.train()\n",
        "        total_loss = 0\n",
        "        total_sat = 0\n",
        "        correct_sum_train = 0\n",
        "        total_train = 0\n",
        "\n",
        "        for operand_images, sum_label, _ in train_loader:\n",
        "            operand_images = operand_images.to(device)\n",
        "            sum_label = sum_label.to(device)\n",
        "\n",
        "            images_x = ltn.Variable(\"x\", operand_images[:, 0])\n",
        "            images_y = ltn.Variable(\"y\", operand_images[:, 1])\n",
        "            labels_z = ltn.Variable(\"z\", sum_label)\n",
        "\n",
        "            optimizer.zero_grad()\n",
        "\n",
        "            sat_agg = Forall(\n",
        "                ltn.diag(images_x, images_y, labels_z),\n",
        "                Exists(\n",
        "                    vars=[d_1, d_2],\n",
        "                    formula=And(model(images_x, d_1), model(images_y, d_2)),\n",
        "                    cond_vars=[d_1, d_2, labels_z],\n",
        "                    cond_fn=lambda d1, d2, z: torch.eq(d1.value + d2.value, z.value),\n",
        "                )\n",
        "            ).value\n",
        "\n",
        "            loss = 1.0 - sat_agg\n",
        "            loss.backward()\n",
        "            optimizer.step()\n",
        "\n",
        "            total_loss += loss.item()\n",
        "            total_sat += sat_agg.item()\n",
        "\n",
        "            # Predict digits for accuracy tracking\n",
        "            out1 = torch.argmax(model.model.logits_model(operand_images[:, 0]), dim=1)\n",
        "            out2 = torch.argmax(model.model.logits_model(operand_images[:, 1]), dim=1)\n",
        "\n",
        "            predictions = out1 + out2\n",
        "            correct_sum_train += torch.count_nonzero(torch.eq(sum_label.to(ltn.device), predictions)) / predictions.shape[0]\n",
        "\n",
        "            total_train += sum_label.size(0)\n",
        "\n",
        "        metrics[\"loss\"][epoch] = total_loss/ len(train_loader)\n",
        "        metrics[\"sat\"][epoch] = total_sat / len(train_loader)\n",
        "        metrics[\"accuracy_sum\"][epoch] = correct_sum_train / len(train_loader)\n",
        "\n",
        "        # === EVALUATION ===\n",
        "        model.eval()\n",
        "        correct_sum = 0\n",
        "        correct_digits = 0\n",
        "        total = 0\n",
        "        test_loss = 0\n",
        "        test_sat = 0\n",
        "\n",
        "        with torch.no_grad():\n",
        "            for operand_images, sum_label, digit_labels in test_loader:\n",
        "\n",
        "                operand_images = operand_images.to(device)\n",
        "                sum_label = sum_label.to(device)\n",
        "                digit_labels = digit_labels.to(device)\n",
        "\n",
        "                \"\"\" Your code here:\n",
        "                    Create x,y,z ltn variables\n",
        "                    Compute the SatAgg for the test set\n",
        "                    Compute the loss for the test set\n",
        "                \"\"\"\n",
        "\n",
        "                # Create x,y,z ltn variables\n",
        "                images_x = ltn.Variable(\"x\", operand_images[:, 0])\n",
        "                images_y = ltn.Variable(\"y\", operand_images[:, 1])\n",
        "                labels_z = ltn.Variable(\"z\", sum_label)\n",
        "\n",
        "                # Compute the SatAgg for the test set\n",
        "                sat_agg = Forall(\n",
        "                  ltn.diag(images_x, images_y, labels_z),\n",
        "                  Exists(\n",
        "                      vars=[d_1, d_2],\n",
        "                      formula=And(model(images_x, d_1), model(images_y, d_2)),\n",
        "                      cond_vars=[d_1, d_2, labels_z],\n",
        "                      cond_fn=lambda d1, d2, z: torch.eq(d1.value + d2.value, z.value),\n",
        "                    )\n",
        "                ).value\n",
        "\n",
        "                # Compute the loss for the test set\n",
        "                loss = 1.0 - sat_agg\n",
        "                test_loss += loss.item()\n",
        "                test_sat += sat_agg.item()\n",
        "\n",
        "                # Predict digits for accuracy tracking\n",
        "                out1 = torch.argmax(model.model.logits_model(operand_images[:, 0]), dim=1)\n",
        "                out2 = torch.argmax(model.model.logits_model(operand_images[:, 1]), dim=1)\n",
        "\n",
        "                predictions = out1 + out2\n",
        "                correct_sum += torch.count_nonzero(torch.eq(sum_label.to(ltn.device), predictions)) / predictions.shape[0]\n",
        "\n",
        "                correct_digits += torch.count_nonzero(torch.eq(digit_labels[:, 0].to(ltn.device), out1))\n",
        "                correct_digits += torch.count_nonzero(torch.eq(digit_labels[:, 1].to(ltn.device), out2))\n",
        "                total += sum_label.shape[0]\n",
        "\n",
        "        metrics[\"test_loss\"][epoch] = test_loss/ len(test_loader)\n",
        "        metrics[\"test_sat\"][epoch] = test_sat / len(test_loader)\n",
        "        metrics[\"test_accuracy_sum\"][epoch] = correct_sum / len(test_loader)\n",
        "        metrics[\"test_accuracy_digit\"][epoch] = correct_digits / (2 * total)\n",
        "\n",
        "        if verbose:\n",
        "            print(f\"Epoch {epoch+1:02d} | \"\n",
        "                  f\"Train Sat: {metrics['sat'][epoch]:.3f} | \"\n",
        "                  f\"Train Loss: {metrics['loss'][epoch]:.4f} | \"\n",
        "                  f\"Train Sum Acc: {metrics['accuracy_sum'][epoch]*100:.2f}% | \"\n",
        "                  f\"Test Sat: {metrics['test_sat'][epoch]:.3f} | \"\n",
        "                  f\"Test Loss: {metrics['test_loss'][epoch]:.4f} | \"\n",
        "                  f\"Test Sum Acc: {metrics['test_accuracy_sum'][epoch]*100:.2f}% | \"\n",
        "                  f\"Test Digit Acc: {metrics['test_accuracy_digit'][epoch]*100:.2f}%\")\n",
        "\n",
        "    return metrics\n"
      ]
    },
    {
      "cell_type": "markdown",
      "metadata": {
        "id": "87dj_9PuO_j4"
      },
      "source": [
        "We also track some important training metrics....\n",
        "\n",
        "<font color='green'><b>ToDo 1</b></font>\n",
        "Based on the earlier plotting functions for the baseline, finish the following function."
      ]
    },
    {
      "cell_type": "code",
      "execution_count": 13,
      "metadata": {
        "id": "OyJkQkzxO_j4"
      },
      "outputs": [],
      "source": [
        "def plot_training_metrics_logical(metrics):\n",
        "    \"\"\"\n",
        "    Plots 4 training metrics: loss, sat, sum accuracy, and digit accuracy.\n",
        "    \"\"\"\n",
        "    epochs = range(1, len(metrics[\"loss\"]) + 1)\n",
        "\n",
        "    fig, axs = plt.subplots(1, 4, figsize=(18, 4))\n",
        "\n",
        "    for name in [\"train\", \"test\"]:\n",
        "      if name == \"train\":\n",
        "        # --- Plot 1: Losses ---\n",
        "        axs[0].plot(epochs, metrics[\"loss\"], label=\"train loss\")\n",
        "        axs[0].set_title(\"Loss\")\n",
        "        # --- Plot 2: Satisfiability ---\n",
        "        axs[1].plot(epochs, metrics[\"sat\"], label=\"train sat\")\n",
        "        axs[1].set_title(\"Satisfiability\")\n",
        "        # --- Plot 3: Sum Accuracies ---\n",
        "        axs[2].plot(epochs, metrics[\"accuracy_sum\"], label=\"train acc\")\n",
        "        axs[2].set_title(\"Sum Accuracy\")\n",
        "      else:\n",
        "        axs[0].plot(epochs, metrics[\"test_loss\"], label=\"test loss\")\n",
        "        axs[1].plot(epochs, metrics[\"test_sat\"], label=\"test sat\")\n",
        "        axs[2].plot(epochs, metrics[\"test_accuracy_sum\"], label=\"test acc\")\n",
        "        # --- Plot 4: Digit Accuracy ---\n",
        "        axs[3].plot(epochs, metrics[\"test_accuracy_digit\"], label=\"test digit acc\")\n",
        "        axs[3].set_title(\"Digit Accuracy\")\n",
        "\n",
        "    for ax in axs:\n",
        "      ax.legend()\n",
        "    plt.tight_layout()\n",
        "    plt.show()"
      ]
    },
    {
      "cell_type": "markdown",
      "metadata": {
        "id": "eFGy_NN-RAnf"
      },
      "source": [
        "And finally we run the training cycle, making sure our arguments are correct! This may take some time due to the additional computational cycles required for tracking metrics and to our new logic functions."
      ]
    },
    {
      "cell_type": "code",
      "execution_count": 14,
      "metadata": {
        "id": "bV0Isw-zO_j4"
      },
      "outputs": [
        {
          "name": "stdout",
          "output_type": "stream",
          "text": [
            "Epoch 01 | Train Sat: 0.000 | Train Loss: 1.0000 | Train Sum Acc: 6.44% | Test Sat: 0.000 | Test Loss: 1.0000 | Test Sum Acc: 6.77% | Test Digit Acc: 8.88%\n",
            "Epoch 02 | Train Sat: 0.000 | Train Loss: 1.0000 | Train Sum Acc: 6.51% | Test Sat: 0.000 | Test Loss: 1.0000 | Test Sum Acc: 6.91% | Test Digit Acc: 9.20%\n",
            "Epoch 03 | Train Sat: 0.000 | Train Loss: 1.0000 | Train Sum Acc: 6.49% | Test Sat: 0.000 | Test Loss: 1.0000 | Test Sum Acc: 6.73% | Test Digit Acc: 8.98%\n",
            "Epoch 04 | Train Sat: 0.000 | Train Loss: 1.0000 | Train Sum Acc: 6.46% | Test Sat: 0.000 | Test Loss: 1.0000 | Test Sum Acc: 6.85% | Test Digit Acc: 9.11%\n",
            "Epoch 05 | Train Sat: 0.000 | Train Loss: 1.0000 | Train Sum Acc: 6.25% | Test Sat: 0.000 | Test Loss: 1.0000 | Test Sum Acc: 6.65% | Test Digit Acc: 9.06%\n"
          ]
        }
      ],
      "source": [
        "And = ltn.Connective(Lukasiewicz_AND())\n",
        "Exists = ltn.Quantifier(AggregMean(), quantifier=\"e\")\n",
        "Forall = ltn.Quantifier(AggregMeanError(), quantifier=\"f\")\n",
        "\n",
        "cnn_s_d = SingleDigitClassifier().to(device)\n",
        "Digit_s_d = ltn.Predicate(LogitsToPredicate(cnn_s_d)).to(device)\n",
        "optimizer = torch.optim.Adam(Digit_s_d.parameters(), lr=0.001)\n",
        "\n",
        "metrics_fuzzy = train_logic(Digit_s_d, optimizer, train_loader, test_loader, And, Exists, Forall, n_epochs=5, verbose=True)"
      ]
    },
    {
      "cell_type": "code",
      "execution_count": 15,
      "metadata": {
        "id": "rylUZOXQRe4J"
      },
      "outputs": [
        {
          "data": {
            "image/png": "[encoded data removed]",
            "text/plain": [
              "<Figure size 1800x400 with 4 Axes>"
            ]
          },
          "metadata": {},
          "output_type": "display_data"
        }
      ],
      "source": [
        "plot_training_metrics_logical(metrics_fuzzy)"
      ]
    },
    {
      "cell_type": "markdown",
      "metadata": {
        "id": "26kDmFnkO_j4"
      },
      "source": [
        "If you're lucky, you might see your fuzzy learning model quickly converge to a subjectively good result. However, more likely than not, it may seem as if the model does not do better than random, and does not learn.\n",
        "\n",
        "---\n",
        "\n",
        "# 4. Why Fuzzy Logic Isn't Always Enough: The Need for Relaxations\n",
        "\n",
        "Earlier, you implemented fuzzy logic operators like the Łukasiewicz AND and OR. These are smooth and differentiable — but that doesn't mean they're *useful* for learning.\n",
        "\n",
        "In practice, fuzzy logics often lead to:\n",
        "- **Vanishing gradients**: when the loss surface is too flat (e.g., near saturation)\n",
        "- **Exploding gradients**: when logic operators sharply change over small regions\n",
        "- **Violations of logical consistency** (e.g., De Morgan laws not holding)\n",
        "\n",
        "These issues are especially problematic in complex formulas with multiple quantifiers or nested logical expressions. For a deep dive into these topics, please refer to [Van Krieken et al., 2020](https://www.sciencedirect.com/science/article/pii/S0004370221001533).\n",
        "\n",
        "---\n",
        "\n",
        "## 4.1 Stable Product Real Logic\n",
        "\n",
        "The Logic Tensor Networks (LTN) paper proposes a solution:  \n",
        "**Stable Real Logic**, a relaxation that preserves key logical properties (like consistency and idempotence), while maintaining smooth gradients. It redefines logic operators not just to be differentiable, but to be **semantically stable** — meaning their truth values align more reliably with classical logic under relaxation.\n",
        "\n",
        "---\n",
        "\n",
        "<font color='green'><b>ToDo 4.1.1</b></font>\n",
        "\n",
        "Re-implement the logic connectives below, this time using the **stable product real logic** definitions from the LTN paper (Section 3.2):\n",
        "\n",
        "- `Stable_AND(a, b)`\n",
        "- `Stable_OR(a, b)`\n",
        "- `Stable_NOT(a)`\n",
        "\n",
        "Use the same structure as before (subclass `ConnectiveOperator`) so your logic can integrate into LTN.\n",
        "\n",
        "**Note**: We will also use a relaxed form of the aggregators Exists and Forall, and this has already been implemented for you.\n",
        "\n",
        "---\n",
        "\n",
        "### <font color='blue'><b>ToThink</b></font>\n",
        "\n",
        "- Why do you think stable real logic requires carefully engineered relaxations?\n",
        "- How does it differ from simply choosing a fuzzy t-norm?\n",
        "\n",
        "---"
      ]
    },
    {
      "cell_type": "code",
      "execution_count": 16,
      "metadata": {
        "id": "B5ddl31PO_j4"
      },
      "outputs": [
        {
          "name": "stdout",
          "output_type": "stream",
          "text": [
            "a: tensor([0.0000, 0.3000, 0.5000, 0.7000, 1.0000])\n",
            "b: tensor([0.3000, 0.1000, 0.0000, 0.7000, 0.2000])\n",
            "AND (Stable): tensor([3.0007e-05, 3.0034e-02, 5.0005e-05, 4.9004e-01, 2.0008e-01])\n",
            "OR  (Stable): tensor([0.3000, 0.3700, 0.4999, 0.9100, 0.9999])\n",
            "NOT (Stable): tensor([1.0000, 0.7000, 0.5000, 0.3000, 0.0000])\n"
          ]
        }
      ],
      "source": [
        "eps=1e-4\n",
        "\n",
        "def pi_0(x):\n",
        "    return (1 - eps) * x + eps\n",
        "def pi_1(x):\n",
        "    return (1 - eps) * x\n",
        "\n",
        "class Stable_AND(ConnectiveOperator):\n",
        "    def __call__(self, x, y):\n",
        "        x, y = pi_0(x), pi_0(y)\n",
        "        return x*y\n",
        "\n",
        "class Stable_OR(ConnectiveOperator):\n",
        "    def __call__(self, x, y):\n",
        "      x, y = pi_1(x), pi_1(y)\n",
        "      return x + y - x*y\n",
        "\n",
        "class Stable_NOT(ConnectiveOperator):\n",
        "    def __call__(self, x):\n",
        "        return 1.0 - x\n",
        "\n",
        "# Sanity check! Compare these also with the fuzzy logic results\n",
        "# Create tensors with edge and mid-range values\n",
        "a = torch.tensor([0.0, 0.3, 0.5, 0.7, 1.0])\n",
        "b = torch.tensor([0.3, 0.1, 0.0, 0.7, 0.2])\n",
        "\n",
        "and_op = Stable_AND()\n",
        "or_op = Stable_OR()\n",
        "not_op = Stable_NOT()\n",
        "\n",
        "print(\"a:\", a)\n",
        "print(\"b:\", b)\n",
        "\n",
        "print(\"AND (Stable):\", and_op(a, b))  # Should range [0, 1] (approx)\n",
        "print(\"OR  (Stable):\", or_op(a, b))   # Should not exceed 1 (approx)\n",
        "print(\"NOT (Stable):\", not_op(a))     # Should reflect 1 - a"
      ]
    },
    {
      "cell_type": "markdown",
      "metadata": {
        "id": "wegs7lW0QYFV"
      },
      "source": [
        "## 4.2 Train with Stable Product Real Logic\n",
        "\n",
        "Now that we have taken into account potential training instability, though the the learning process can still find itself in sharp local minima, we can truely train with logical constraints. The expected result is quick convergence to good results (>95% accuracy in one epoch of training). If this does not work for you, try running it a few times -- *most* of the time, it should converge to a good optima.\n",
        "\n",
        "<font color='green'><b>ToDo 4.2.1</b></font>\n",
        "Run the training for the stable product real logic connector."
      ]
    },
    {
      "cell_type": "code",
      "execution_count": 20,
      "metadata": {
        "id": "IvD3mvOXO_j4"
      },
      "outputs": [
        {
          "name": "stdout",
          "output_type": "stream",
          "text": [
            "Epoch 01 | Train Sat: 0.344 | Train Loss: 0.6557 | Train Sum Acc: 92.11% | Test Sat: 0.381 | Test Loss: 0.6185 | Test Sum Acc: 95.70% | Test Digit Acc: 97.83%\n",
            "Epoch 02 | Train Sat: 0.381 | Train Loss: 0.6187 | Train Sum Acc: 96.76% | Test Sat: 0.389 | Test Loss: 0.6114 | Test Sum Acc: 96.74% | Test Digit Acc: 98.36%\n",
            "Epoch 03 | Train Sat: 0.386 | Train Loss: 0.6139 | Train Sum Acc: 97.31% | Test Sat: 0.392 | Test Loss: 0.6084 | Test Sum Acc: 97.29% | Test Digit Acc: 98.64%\n",
            "Epoch 04 | Train Sat: 0.389 | Train Loss: 0.6114 | Train Sum Acc: 97.64% | Test Sat: 0.393 | Test Loss: 0.6068 | Test Sum Acc: 97.31% | Test Digit Acc: 98.65%\n",
            "Epoch 05 | Train Sat: 0.390 | Train Loss: 0.6098 | Train Sum Acc: 97.81% | Test Sat: 0.393 | Test Loss: 0.6070 | Test Sum Acc: 97.47% | Test Digit Acc: 98.73%\n",
            "Epoch 06 | Train Sat: 0.392 | Train Loss: 0.6081 | Train Sum Acc: 98.07% | Test Sat: 0.393 | Test Loss: 0.6075 | Test Sum Acc: 97.49% | Test Digit Acc: 98.74%\n",
            "Epoch 07 | Train Sat: 0.393 | Train Loss: 0.6067 | Train Sum Acc: 98.19% | Test Sat: 0.394 | Test Loss: 0.6057 | Test Sum Acc: 97.61% | Test Digit Acc: 98.80%\n",
            "Epoch 08 | Train Sat: 0.394 | Train Loss: 0.6058 | Train Sum Acc: 98.42% | Test Sat: 0.394 | Test Loss: 0.6057 | Test Sum Acc: 97.65% | Test Digit Acc: 98.82%\n",
            "Epoch 09 | Train Sat: 0.395 | Train Loss: 0.6054 | Train Sum Acc: 98.37% | Test Sat: 0.393 | Test Loss: 0.6072 | Test Sum Acc: 97.33% | Test Digit Acc: 98.66%\n",
            "Epoch 10 | Train Sat: 0.396 | Train Loss: 0.6042 | Train Sum Acc: 98.55% | Test Sat: 0.390 | Test Loss: 0.6102 | Test Sum Acc: 96.66% | Test Digit Acc: 98.32%\n"
          ]
        }
      ],
      "source": [
        "And = ltn.Connective(Stable_AND())\n",
        "# we use relaxed aggregators: see paper for details\n",
        "Exists = ltn.Quantifier(ltn.fuzzy_ops.AggregPMean(p=2), quantifier=\"e\")\n",
        "Forall = ltn.Quantifier(ltn.fuzzy_ops.AggregPMeanError(p=2), quantifier=\"f\")\n",
        "\n",
        "cnn_s_d = SingleDigitClassifier().to(device)\n",
        "Digit_s_d = ltn.Predicate(LogitsToPredicate(cnn_s_d)).to(device)\n",
        "optimizer = torch.optim.Adam(Digit_s_d.parameters(), lr=0.001)\n",
        "metrics_prl = train_logic(Digit_s_d, optimizer, train_loader, test_loader, And, Exists, Forall, n_epochs=10, verbose=True)"
      ]
    },
    {
      "cell_type": "markdown",
      "metadata": {
        "id": "aHvAZQLdQg-D"
      },
      "source": [
        "# 5. Comparing the Baseline with SRPL Training\n",
        "\n",
        "<font color='green'><b>ToDo 5.1</b></font>\n",
        "Complete the following function."
      ]
    },
    {
      "cell_type": "code",
      "execution_count": 21,
      "metadata": {
        "id": "Iif50g50O_j4"
      },
      "outputs": [
        {
          "data": {
            "image/png": "[encoded data removed]",
            "text/plain": [
              "<Figure size 900x400 with 2 Axes>"
            ]
          },
          "metadata": {},
          "output_type": "display_data"
        }
      ],
      "source": [
        "\n",
        "def compare_training_metrics(metrics_cnn, metrics_prl):\n",
        "    epochs = range(1, len(metrics_cnn[\"accuracy_sum\"]) + 1)\n",
        "\n",
        "    orange = \"#FFA500\"\n",
        "    blue = \"#1F77B4\"\n",
        "\n",
        "    fig, axs = plt.subplots(1, 2, figsize=(9, 4))\n",
        "\n",
        "    # --- Plot 1: Sum Accuracies ---\n",
        "    # Ideally plot the test and train sum accuracies for the baseline and LTN models\n",
        "    axs[0].set_title(\"Sum Accuracy\")\n",
        "    # Plot CNN baseline train and test accuracies\n",
        "    axs[0].plot(epochs, metrics_cnn[\"accuracy_sum\"]*100, c=orange, label=\"CNN (train)\")\n",
        "    axs[0].plot(epochs, metrics_cnn[\"test_accuracy_sum\"]*100, c=orange, linestyle='dashed',\n",
        "                label=\"CNN (test)\")\n",
        "    # Plot LTN train and test accuracies\n",
        "    axs[0].plot(epochs, metrics_prl[\"accuracy_sum\"]*100, c=blue, label=\"LTN (train)\")\n",
        "    axs[0].plot(epochs, metrics_prl[\"test_accuracy_sum\"]*100, c=blue, linestyle='dashed',\n",
        "                label=\"LTN (test)\")\n",
        "\n",
        "    # Set y-axis & x-axis\n",
        "    axs[0].set_ylabel(\"Percentage Accuracy\")\n",
        "    axs[0].set_xlabel(\"Epoch\")\n",
        "\n",
        "    # --- Plot 2: Digit Accuracy ---\n",
        "    # Ideally plot the test digit accuracies for the baseline and LTN models\n",
        "    axs[1].set_title(\"Digit Accuracy\")\n",
        "    # Plot CNN baseline\n",
        "    axs[1].plot(epochs, metrics_cnn[\"test_accuracy_digit\"]*100, c=orange, linestyle='dashed',\n",
        "                label=\"CNN (test)\")\n",
        "    axs[1].plot(epochs, metrics_prl[\"test_accuracy_digit\"]*100, c=blue, linestyle='dashed',\n",
        "                label=\"LTN (test)\")\n",
        "\n",
        "    # Set y-axis & x-axis\n",
        "    axs[1].set_ylabel(\"Percentage Accuracy\")\n",
        "    axs[1].set_xlabel(\"Epoch\")\n",
        "\n",
        "    for ax in axs:\n",
        "      ax.legend()\n",
        "\n",
        "    plt.tight_layout()\n",
        "    plt.show()\n",
        "\n",
        "compare_training_metrics(metrics_cnn, metrics_prl)"
      ]
    },
    {
      "cell_type": "markdown",
      "metadata": {
        "id": "Zt03qdZmbaCP"
      },
      "source": [
        "# 6. Summary and Submissions\n",
        "\n",
        "In this assignment, you explored Logic Tensor Networks (LTNs) for learning with partial supervision using logical constraints. You applied LTNs to a digit addition task and examined how symbolic logic improves generalization from limited labeled data.\n",
        "\n",
        "---\n",
        "<font color='red'><b>ToSubmit 6.1 (max 1 page)</b></font>  \n",
        "Please submit a **brief comparative report** on the behaviour of the models you experimented with:\n",
        "- **Baseline (no logic)**\n",
        "- **Fuzzy Logic**\n",
        "- **Stable Product Real Logic (SPRL)**\n",
        "\n",
        "Your report should:\n",
        "- Include **plots of your choice**, but must minimally show **digit accuracy** and **sum accuracy** across training and testing.\n",
        "- Provide a **concise comparison** of the generalization performance and convergence speed.\n",
        "- Comment on any **trade-offs observed between logical explainability and numerical stability**. About how many times on averge does the SPRL LTN converge to a good equilibria quickly? What about the Fuzzy LTN? (you may consider plotting additional plots e.g. with standard deviations if you have the time.)\n",
        "\n",
        "Additionally, answer the following question **concisely**:\n",
        "\n",
        "1. **What is one additional domain that requires interpretability where having prior knowledge could enhance learning?**  \n",
        "   Provide a **relevant axiom**, stated in a logic formalism of your choice (e.g., FOL, fuzzy logic, modal logic, etc).\n"
      ]
    },
    {
      "cell_type": "markdown",
      "metadata": {
        "id": "qYV2HTpqfe5L"
      },
      "source": [
        "\n",
        "---\n",
        "## Further Directions: Research in Neuro-Symbolic AI\n",
        "\n",
        "Neuro-Symbolic (NeSy) AI is a growing interdisciplinary field that combines the statistical power of neural networks with the structured reasoning of symbolic logic. The Logic Tensor Network (LTN) framework you explored in this assignment is just one of many approaches.\n",
        "\n",
        "Below are several research directions that may be of interest for further exploration:\n",
        "\n",
        "### Suggested Research Directions\n",
        "\n",
        "1. **Scalability of Logic-Based Learning**  \n",
        "   Investigate how logic-augmented models like LTNs can be extended to handle large-scale datasets and complex relational structures. Consider more efficient t-norms, constraint pruning, or hybrid logic-neural sampling schemes.\n",
        "\n",
        "2. **Explainability and Debugging**  \n",
        "   Explore the use of symbolic constraints for interpreting or diagnosing neural network behavior. Can logical structure improve trust in black-box systems?\n",
        "\n",
        "3. **Learning Logic from Data**  \n",
        "   Study methods that learn logical rules directly from examples, possibly through differentiable inductive logic programming or rule extraction techniques.\n",
        "\n",
        "4. **Multimodal Neuro-Symbolic Reasoning**  \n",
        "   Extend logic-based reasoning to tasks involving vision, language, or audio. For example, define symbolic rules over object interactions in visual scenes.\n",
        "\n",
        "5. **Probabilistic and Modal Extensions**  \n",
        "   Investigate how LTNs or related frameworks could support probabilistic logic, temporal logic, or epistemic logic for richer reasoning under uncertainty and context.\n",
        "\n",
        "6. **Neuro-Symbolic Agents**  \n",
        "   Build autonomous agents capable of symbolic goal planning or logical inference, grounded in perceptual input via neural components. Also create RL agents that adhere to symbolic guardrails during exploration and deployment.\n",
        "\n",
        "7. **Benchmarking and Evaluation**  \n",
        "   Design tasks and metrics to assess generalization, consistency, robustness, and interpretability of NeSy models across domains.\n",
        "\n",
        "8. **Probing Logical Structure in Representations**  \n",
        "   Develop probing methods to evaluate whether internal representations of NeSy models reflect the underlying logical structure they are trained on. For example:\n",
        "   - Are embeddings logically consistent (e.g., transitivity, symmetry)?\n",
        "   - Do concept clusters reflect rule hierarchies?\n",
        "   - How separable are truth values of logic predicates in latent space?\n",
        "\n",
        "### Beyond LTNs\n",
        "\n",
        "The Logic Tensor Network is only one approach among many. Other noteworthy Neuro-Symbolic frameworks include:\n",
        "- **DeepProbLog** – neural-symbolic integration with probabilistic logic programming.\n",
        "- **Neural Theorem Provers** – differentiable reasoning over symbolic rules.\n",
        "- **Neuro-Symbolic Transformers** – incorporating logic constraints into large pre-trained models.\n",
        "- **Differentiable ILP** – combining neural methods with rule induction.\n",
        "- **Symbolic Knowledge Distillation** – extracting human-readable rules from black-box models.\n",
        "\n",
        "Each of these approaches offers different trade-offs in terms of interpretability, scalability, supervision requirements, and reasoning capabilities.\n",
        "\n",
        "Many fundamental questions remain open:  \n",
        "- What is the right interface between perception and logic?  \n",
        "- How do we balance inductive flexibility with symbolic constraints?  \n",
        "- What are the theoretical limits of neuro-symbolic generalization?\n",
        "- Consider a scenario where the symbolic rules are incorrect or only approximate. Should the model prioritize data or logic? How can this trade-off be managed in high-stakes situtations?"
      ]
    }
  ],
  "metadata": {
    "colab": {
      "provenance": [],
      "toc_visible": true
    },
    "kernelspec": {
      "display_name": "llm-rankers",
      "language": "python",
      "name": "python3"
    },
    "language_info": {
      "codemirror_mode": {
        "name": "ipython",
        "version": 3
      },
      "file_extension": ".py",
      "mimetype": "text/x-python",
      "name": "python",
      "nbconvert_exporter": "python",
      "pygments_lexer": "ipython3",
      "version": "3.9.20"
    }
  },
  "nbformat": 4,
  "nbformat_minor": 0
}
